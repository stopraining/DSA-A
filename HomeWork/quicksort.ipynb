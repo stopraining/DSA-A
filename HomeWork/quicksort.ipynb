def quicksort(list):
    smaller=[]
    bigger=[]
    point=[]
    if len(list)<=1:
        return list
    else:
        pivot = list[-1]
        for i in list:
            if i < pivot:
                smaller.append(i)
            elif i > pivot:
                bigger.append(i)
            else:
                point.append(i)
                
    return quicksort(smaller) + point + quicksort(bigger)
