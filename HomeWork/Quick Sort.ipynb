{
 "cells": [
  {
   "cell_type": "markdown",
   "metadata": {},
   "source": [
    "# HW1(10/18):\n",
    "* 06170117 蘇亭宇 2019/10               \n",
    "\n",
    "## QuickSort是什麼?                                     \n",
    "即「快速排序法」，將一數列(list)裡的數字從小到大排序，首先，在一未排序的數列中，找一個數字當基準點(pivot)，比基準點小的放左邊，比基準點大的放右邊，利用同樣的方式，再將左邊和右邊的數字做排序(一樣也要找基準點)，重複幾次動作，就能輕鬆將數字排序完成。                         \n",
    "\n",
    "## 我的想法                                           \n",
    "1.如果list長度小於1或等於1，不需要排序，則回傳list                                                                                2.將基準點(pivot)設置在數列的最後一個數字                                                                                        3.小於基準點的數字放在smaller，大於基準點的數字放在bigger                                                                   4.smaller和bigger要再回傳至此函式做排序                                                                                     5.return時將smaller放左邊，pivot放中間，bigger放右邊                \n",
    "              \n"
   ]
  },
  {
   "cell_type": "code",
   "execution_count": 45,
   "metadata": {},
   "outputs": [],
   "source": [
    "def quicksort(list):\n",
    "    if len(list)<=1:\n",
    "        return list\n",
    "    pivot=list[-1]   \n",
    "    smaller=[i for i in list if i < pivot]  \n",
    "    bigger =[i for i in list if i > pivot]\n",
    "    return quicksort(smaller)+[pivot]+quicksort(bigger)"
   ]
  },
  {
   "cell_type": "code",
   "execution_count": 46,
   "metadata": {},
   "outputs": [
    {
     "data": {
      "text/plain": [
       "[0, 1, 2, 3, 5, 6, 7, 8, 9]"
      ]
     },
     "execution_count": 46,
     "metadata": {},
     "output_type": "execute_result"
    }
   ],
   "source": [
    "list1=[2,9,1,5,8,3,0,7,1,6]\n",
    "quicksort(list1)"
   ]
  },
  {
   "cell_type": "code",
   "execution_count": 47,
   "metadata": {},
   "outputs": [
    {
     "data": {
      "text/plain": [
       "[1]"
      ]
     },
     "execution_count": 47,
     "metadata": {},
     "output_type": "execute_result"
    }
   ],
   "source": [
    "list2=[1]\n",
    "quicksort(list2)"
   ]
  }
 ],
 "metadata": {
  "kernelspec": {
   "display_name": "Python 3",
   "language": "python",
   "name": "python3"
  },
  "language_info": {
   "codemirror_mode": {
    "name": "ipython",
    "version": 3
   },
   "file_extension": ".py",
   "mimetype": "text/x-python",
   "name": "python",
   "nbconvert_exporter": "python",
   "pygments_lexer": "ipython3",
   "version": "3.7.1"
  }
 },
 "nbformat": 4,
 "nbformat_minor": 2
}
